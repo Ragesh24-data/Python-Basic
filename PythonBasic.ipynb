{
  "nbformat": 4,
  "nbformat_minor": 0,
  "metadata": {
    "colab": {
      "provenance": []
    },
    "kernelspec": {
      "name": "python3",
      "display_name": "Python 3"
    },
    "language_info": {
      "name": "python"
    }
  },
  "cells": [
    {
      "cell_type": "code",
      "source": [
        " #Python Basics Questions\n",
        "\n"
      ],
      "metadata": {
        "id": "DtHktHUmdsDh"
      },
      "execution_count": null,
      "outputs": []
    },
    {
      "cell_type": "markdown",
      "source": [
        "1.What is Python, and why is it popular?\n",
        "   \n",
        "   ->  Python is a high-level, interpreted programming language known for its simplicity, readability, and versatility.ython is widely used for web development, data science, machine learning, automation, cybersecurity, and more. Why is Python Popular. Easy to Learn & Readable Large Community & Libraries Cross-Platform High Demand in Tech."
      ],
      "metadata": {
        "id": "3kE_aRXkeIzp"
      }
    },
    {
      "cell_type": "markdown",
      "source": [
        "2.What is an interpreter in Python?\n",
        "  \n",
        "   ->An interpreter in Python is a program that executes Python code line by line, rather than compiling the entire program before running it. This allows for immediate execution and makes debugging easier"
      ],
      "metadata": {
        "id": "zs3ED91QG96Y"
      }
    },
    {
      "cell_type": "markdown",
      "source": [
        "3.What are pre-defined keywords in Python?\n",
        "\n",
        "->Pre-defined keywords in Python are reserved words that have special meanings and cannot be used as variable names, function names, or identifiers.\n",
        "\n",
        "LIST OF KEYWORDS.\n",
        "\n",
        "True , False, and, or, if etc."
      ],
      "metadata": {
        "id": "YzZeLcThHSiK"
      }
    },
    {
      "cell_type": "markdown",
      "source": [
        "4.Can keywords be used as variable names?\n",
        "\n",
        "->No\n",
        "\n"
      ],
      "metadata": {
        "id": "7J5lwncnHiYs"
      }
    },
    {
      "cell_type": "markdown",
      "source": [
        "5.What is mutability in Python?\n",
        "\n",
        "->Object/containers whose places can be changed after created called as mutable.\n",
        "\n"
      ],
      "metadata": {
        "id": "UTtebkWOHtrz"
      }
    },
    {
      "cell_type": "markdown",
      "source": [
        "6.Why are lists mutable, but tuples are immutable?\n",
        "   \n",
        "   ->ists are mutable → They can be changed (modified, added to, or removed from). Tuples are immutable → They cannot be changed once created.\n",
        "\n"
      ],
      "metadata": {
        "id": "b6czufdvHz4J"
      }
    },
    {
      "cell_type": "markdown",
      "source": [
        "7.What is the difference between “==” and “is” operators in Python?\n",
        "  \n",
        "   ->In Python, == and is are both comparison operators, but they serve different purposes is = Identity “==” = Equality Use == when you want to compare values Use is when checking if two variables point to the same memory location.\n",
        "\n"
      ],
      "metadata": {
        "id": "_T0sdbd6IBsW"
      }
    },
    {
      "cell_type": "markdown",
      "source": [
        "8.What are logical operators in Python?\n",
        "Logical operators are used to combine conditional statements and return a Boolean (True or False)."
      ],
      "metadata": {
        "id": "U06KzYtnIQ3V"
      }
    },
    {
      "cell_type": "code",
      "source": [
        "#Write code to demonstrate type casting with list elements\n",
        "string_list = [\"10\", \"20\", \"30\", \"40.5\", \"50.6\", \"Aditya\", \"vishu\"]\n",
        "int_list = []\n",
        "for item in string_list:\n",
        "    try:\n",
        "        int_list.append(int(float(item)))\n",
        "    except ValueError:\n",
        "        int_list.append(None)\n",
        "print(\"Integer list:\", int_list)\n",
        "float_list = []\n",
        "for item in string_list:\n"
      ],
      "metadata": {
        "colab": {
          "base_uri": "https://localhost:8080/",
          "height": 106
        },
        "id": "uR9z3GhCInN3",
        "outputId": "3ba815d3-e6e3-4709-fa7e-8250d9b5cd0e"
      },
      "execution_count": null,
      "outputs": [
        {
          "output_type": "error",
          "ename": "SyntaxError",
          "evalue": "incomplete input (<ipython-input-1-2358c2ad1f7b>, line 11)",
          "traceback": [
            "\u001b[0;36m  File \u001b[0;32m\"<ipython-input-1-2358c2ad1f7b>\"\u001b[0;36m, line \u001b[0;32m11\u001b[0m\n\u001b[0;31m    for item in string_list:\u001b[0m\n\u001b[0m                            ^\u001b[0m\n\u001b[0;31mSyntaxError\u001b[0m\u001b[0;31m:\u001b[0m incomplete input\n"
          ]
        }
      ]
    },
    {
      "cell_type": "markdown",
      "source": [
        "9.What is type casting in Python?\n",
        "  \n",
        "   ->ype casting is the process of converting one data type into another in Python. It can be done automatically (implicit) or manually (explicit).\n",
        "\n"
      ],
      "metadata": {
        "id": "8-wsRVSwJADY"
      }
    },
    {
      "cell_type": "markdown",
      "source": [
        "10.What is the difference between implicit and explicit type casting?\n",
        "\n",
        "   ->Implicit Type Casting (Automatic Conversion)\n",
        "Python automatically converts one data type to another without losing information.\n",
        "Happens when a smaller data type is converted to a larger data type to prevent data loss.\n",
        ">> Explicit Type Casting (Manual Conversion)\n",
        "\n",
        "Done manually by the programmer using type conversion functions.\n",
        "Can result in data loss (e.g., converting float to int removes the decimal part)."
      ],
      "metadata": {
        "id": "s9kEkLhFJUGP"
      }
    },
    {
      "cell_type": "markdown",
      "source": [
        "11.What is the purpose of conditional statements in Python?\n",
        "  \n",
        "   ->Conditional statements in Python allow you to execute different blocks of code based on certain conditions. These conditions are evaluated using logical expressions, and the code execution is controlled accordingly. Conditional statements are essential for making decisions in your program. (if, elif , else etc.)\n",
        "\n"
      ],
      "metadata": {
        "id": "qDupSHmRJWWc"
      }
    },
    {
      "cell_type": "markdown",
      "source": [
        "12.How does the elif statement work?\n",
        "   \n",
        "   ->he elif statement is used to check multiple conditions sequentially after the initial if condition. It allows you to test additional conditions when the first if condition is False. If the condition of the elif statement is True, it executes the block of code within it. If no elif conditions are met, the else block (if present) will execute.\n",
        "\n"
      ],
      "metadata": {
        "id": "9xxq6HtJJjVo"
      }
    },
    {
      "cell_type": "markdown",
      "source": [
        "13.What is the difference between for and while loops?\n",
        "  \n",
        "  ->Both for and while loops are used to repeat a block of code multiple times, but they differ in how they control the repetition. for Loop\n",
        "\n",
        "The for loop is used when you know how many times you want to iterate, or if you're iterating over a sequence (like a list, tuple, or string).\n",
        "while Loop\n",
        "\n",
        "The while loop is used when you want to repeat a block of code as long as a condition is True.\n",
        "It works by repeatedly executing a block of code as long as the condition remains True. If the condition becomes False, the loop stops.\n"
      ],
      "metadata": {
        "id": "tlIsD0WxJrc1"
      }
    },
    {
      "cell_type": "markdown",
      "source": [
        "14.Describe a scenario where a while loop is more suitable than a for loop?\n",
        "\n",
        "   \n",
        "   ->A while loop is particularly useful when you don't know the exact number of iterations in advance and need to keep repeating a block of code until a certain condition is met. This makes it ideal for situations where the number of iterations depends on a dynamic condition rather than a fixed range or iterable.\n",
        "\n"
      ],
      "metadata": {
        "id": "f_LTRajYKBjT"
      }
    },
    {
      "cell_type": "markdown",
      "source": [
        "Practical Questions"
      ],
      "metadata": {
        "id": "so9N_oL5Kh-K"
      }
    },
    {
      "cell_type": "code",
      "source": [
        "#Write a Python program to print \"Hello, World!_\n",
        "print(\"hello, world\")"
      ],
      "metadata": {
        "colab": {
          "base_uri": "https://localhost:8080/"
        },
        "id": "A_bg8CcZKqVc",
        "outputId": "766d7f03-3aaa-4642-efc7-0be8e65b8578"
      },
      "execution_count": null,
      "outputs": [
        {
          "output_type": "stream",
          "name": "stdout",
          "text": [
            "hello, world\n"
          ]
        }
      ]
    },
    {
      "cell_type": "code",
      "source": [
        "# Write a Python program that displays your name and age\n",
        "name = \"Aditya\"\n",
        "age = 20\n",
        "print(\"Name\", name)\n",
        "print(\"Age\", age)\n"
      ],
      "metadata": {
        "colab": {
          "base_uri": "https://localhost:8080/"
        },
        "id": "nI53tS2KKw2F",
        "outputId": "91ffa888-ad50-473a-cf15-a5f0d29f2219"
      },
      "execution_count": null,
      "outputs": [
        {
          "output_type": "stream",
          "name": "stdout",
          "text": [
            "Name Aditya\n",
            "Age 20\n"
          ]
        }
      ]
    },
    {
      "cell_type": "code",
      "source": [
        "#Write code to print all the pre-defined keywords in Python using the keyword library\n",
        "import keyword\n",
        "print(keyword.kwlist)\n"
      ],
      "metadata": {
        "colab": {
          "base_uri": "https://localhost:8080/"
        },
        "id": "-JO0C4aeLDdE",
        "outputId": "3b86980b-519e-468e-90a8-ffd0c9d896bd"
      },
      "execution_count": null,
      "outputs": [
        {
          "output_type": "stream",
          "name": "stdout",
          "text": [
            "['False', 'None', 'True', 'and', 'as', 'assert', 'async', 'await', 'break', 'class', 'continue', 'def', 'del', 'elif', 'else', 'except', 'finally', 'for', 'from', 'global', 'if', 'import', 'in', 'is', 'lambda', 'nonlocal', 'not', 'or', 'pass', 'raise', 'return', 'try', 'while', 'with', 'yield']\n"
          ]
        }
      ]
    },
    {
      "cell_type": "code",
      "source": [
        "#Write a program that checks if a given word is a Python keyword.\n",
        "import keyword\n",
        "a = input(\"name: \")\n",
        "if keyword.iskeyword(a):\n",
        "    print(f\"'{a}' is a Python keyword.\")\n",
        "else:\n",
        "    print(f\"'{a}' is not a Python keyword.\")"
      ],
      "metadata": {
        "colab": {
          "base_uri": "https://localhost:8080/"
        },
        "id": "PKzuvUWuLGzD",
        "outputId": "6d83b8cc-c42e-41f1-81fa-1b3409ad717b"
      },
      "execution_count": null,
      "outputs": [
        {
          "output_type": "stream",
          "name": "stdout",
          "text": [
            "name: Aditya\n",
            "'Aditya' is not a Python keyword.\n"
          ]
        }
      ]
    },
    {
      "cell_type": "code",
      "source": [
        "#create a list and tuple in Python, and demonstrate how attempting to change an element works differently for each\n",
        "\n",
        "my_list = [10, 20, 30, 40]\n",
        "print(\"Original list:\", my_list)\n",
        "\n",
        "# Modifying an element in the list\n",
        "my_list[1] = 99\n",
        "print(\"Modified list:\", my_list)\n",
        "\n",
        "# Creating a tuple\n",
        "my_tuple = (10, 20, 30, 40)\n",
        "print(\"\\nOriginal tuple:\", my_tuple)\n"
      ],
      "metadata": {
        "colab": {
          "base_uri": "https://localhost:8080/"
        },
        "id": "OU5tgQicLVYU",
        "outputId": "c2b5bb2f-7f5f-44b9-a9a0-eee0a0a2ad31"
      },
      "execution_count": null,
      "outputs": [
        {
          "output_type": "stream",
          "name": "stdout",
          "text": [
            "Original list: [10, 20, 30, 40]\n",
            "Modified list: [10, 99, 30, 40]\n",
            "\n",
            "Original tuple: (10, 20, 30, 40)\n"
          ]
        }
      ]
    },
    {
      "cell_type": "code",
      "source": [
        "#Write a function to demonstrate the behavior of mutable and immutable arguments\n",
        "\n",
        "\n",
        "def modify_arguments(immutable_obj, mutable_obj):\n",
        "    \"\"\"Demonstrates the difference between immutable and mutable arguments.\"\"\"\n",
        "    immutable_obj += 1\n",
        "    print(\"Inside function (immutable):\", immutable_obj)\n",
        "    mutable_obj.append(42)\n",
        "    print(\"Inside function (mutable):\", mutable_obj)\n",
        "num = 10\n",
        "my_list = [1, \"Aditya\", 3]\n",
        "print(\"Before function call:\", num, my_list)\n",
        "modify_arguments(num, my_list)\n",
        "print(\"After function call:\", num, my_list)\n"
      ],
      "metadata": {
        "colab": {
          "base_uri": "https://localhost:8080/"
        },
        "id": "vIlQ_M5LLeYP",
        "outputId": "d81134ca-ea31-4b18-899d-4df0ae683dab"
      },
      "execution_count": null,
      "outputs": [
        {
          "output_type": "stream",
          "name": "stdout",
          "text": [
            "Before function call: 10 [1, 'Aditya', 3]\n",
            "Inside function (immutable): 11\n",
            "Inside function (mutable): [1, 'Aditya', 3, 42]\n",
            "After function call: 10 [1, 'Aditya', 3, 42]\n"
          ]
        }
      ]
    },
    {
      "cell_type": "code",
      "source": [
        "#Write a program to demonstrate the use of logical operators\n",
        "#>>\n",
        "a = 7\n",
        "b = 3\n",
        "print(f\"a = {a}, b = {b}\\n\")\n",
        "print(\"a > 5 and b < 10:\", a > 5 and b < 10)\n",
        "print(\"a > 5 or b < 10:\", a > 5 or b < 10)\n",
        "print(\"not (a > 5):\", not (a > 5))\n"
      ],
      "metadata": {
        "colab": {
          "base_uri": "https://localhost:8080/"
        },
        "id": "Rbe7RRJ-LwHc",
        "outputId": "9514df15-6787-4ac1-86c1-5fd00055fec3"
      },
      "execution_count": null,
      "outputs": [
        {
          "output_type": "stream",
          "name": "stdout",
          "text": [
            "a = 7, b = 3\n",
            "\n",
            "a > 5 and b < 10: True\n",
            "a > 5 or b < 10: True\n",
            "not (a > 5): False\n"
          ]
        }
      ]
    },
    {
      "cell_type": "code",
      "source": [
        "#Write a Python program to convert user input from string to integer, float, and boolean types\n",
        "user_input = input(\"Enter a value: \")\n",
        "\n",
        "\n",
        "try:\n",
        "    int_value = int(\"42\")\n",
        "    print(\"Integer value:\", int_value)\n",
        "except ValueError:\n",
        "    print(\"Cannot convert to integer.\")\n",
        "try:\n",
        "    float_value = float(user_input)\n",
        "    print(\"Float value:\", float_value)\n",
        "except ValueError:\n",
        "    print(\"Cannot convert to float.\")\n",
        "\n",
        "bool_value = bool(10)\n",
        "print(\"Boolean value:\", bool_value)"
      ],
      "metadata": {
        "colab": {
          "base_uri": "https://localhost:8080/"
        },
        "id": "hYaUN8ZiL8oi",
        "outputId": "79685a16-f32c-4bdc-9842-b49ac4544bf7"
      },
      "execution_count": null,
      "outputs": [
        {
          "output_type": "stream",
          "name": "stdout",
          "text": [
            "Enter a value: 42\n",
            "Integer value: 42\n",
            "Float value: 42.0\n",
            "Boolean value: True\n"
          ]
        }
      ]
    },
    {
      "cell_type": "code",
      "source": [
        "#Write a program that checks if a number is positive, negative, or zero\n",
        "\n",
        "if -1 > 0:\n",
        "    print(\"The number is positive.\")\n",
        "elif -1 < 0:\n",
        "    print(\"The number is negative.\")\n",
        "else:\n",
        "    print(\"The number is zero.\")"
      ],
      "metadata": {
        "colab": {
          "base_uri": "https://localhost:8080/"
        },
        "id": "nysHwsMZMtl2",
        "outputId": "76edf7ea-1cbb-4c20-89d3-fbc8043b8246"
      },
      "execution_count": null,
      "outputs": [
        {
          "output_type": "stream",
          "name": "stdout",
          "text": [
            "The number is negative.\n"
          ]
        }
      ]
    },
    {
      "cell_type": "code",
      "source": [
        "#Write a for loop to print numbers from 1 to 10\n",
        "\n",
        "for i in range(1, 11):  # range(start, end) where end is exclusive\n",
        "    print(i)"
      ],
      "metadata": {
        "colab": {
          "base_uri": "https://localhost:8080/"
        },
        "id": "sVMQHcVUNT8a",
        "outputId": "10ab7eeb-1995-4e53-b254-79d94708f3f4"
      },
      "execution_count": null,
      "outputs": [
        {
          "output_type": "stream",
          "name": "stdout",
          "text": [
            "1\n",
            "2\n",
            "3\n",
            "4\n",
            "5\n",
            "6\n",
            "7\n",
            "8\n",
            "9\n",
            "10\n"
          ]
        }
      ]
    },
    {
      "cell_type": "code",
      "source": [
        "#Write a Python program to calculate the factorial of a number provided by the user using a while loop\n",
        "\n",
        "num = int(input(\"10: \"))\n",
        "factorial = 1\n",
        "if num < 0:\n",
        "    print(\"Factorial is not defined for negative numbers.\")\n",
        "else:\n",
        "    i = 10\n",
        "    while i > 0:\n",
        "        factorial *= i\n",
        "        i -= 1\n",
        "    print(f\"The factorial of {num} is {factorial}\")\n"
      ],
      "metadata": {
        "colab": {
          "base_uri": "https://localhost:8080/"
        },
        "id": "HGc4382EN_6_",
        "outputId": "a83691b8-231d-4a26-9153-4b19f3a929ea"
      },
      "execution_count": null,
      "outputs": [
        {
          "output_type": "stream",
          "name": "stdout",
          "text": [
            "10: 5\n",
            "The factorial of 5 is 3628800\n"
          ]
        }
      ]
    },
    {
      "cell_type": "code",
      "source": [
        "#Write a Python program to find the sum of all even numbers between 1 and 500\n",
        "\n",
        "sum_even = sum(range(2, 501, 2))  # Sum all even numbers directly\n",
        "print(\"The sum of all even numbers between 1 and 500 is:\", sum_even)"
      ],
      "metadata": {
        "colab": {
          "base_uri": "https://localhost:8080/"
        },
        "id": "VGwUcACbyExg",
        "outputId": "e44c6b1b-f570-4e04-f6da-1c7faf1e99ea"
      },
      "execution_count": null,
      "outputs": [
        {
          "output_type": "stream",
          "name": "stdout",
          "text": [
            "The sum of all even numbers between 1 and 500 is: 62750\n"
          ]
        }
      ]
    },
    {
      "cell_type": "code",
      "source": [
        "#Write a program to reverse a string using a while loop\n",
        "\n",
        "string = input(\"manya: \")\n",
        "reversed_string = \"\"\n",
        "index = len(string) - 1\n",
        "while index >= 0:\n",
        "    reversed_string += string[index]\n",
        "    index -= 1\n",
        "print(\"alu:\", reversed_string)"
      ],
      "metadata": {
        "colab": {
          "base_uri": "https://localhost:8080/"
        },
        "id": "_zN3EuDoyJ28",
        "outputId": "7fe911fe-4ac2-4c4b-efec-dc4d659d4d79"
      },
      "execution_count": null,
      "outputs": [
        {
          "output_type": "stream",
          "name": "stdout",
          "text": [
            "manya: alu\n",
            "alu: ula\n"
          ]
        }
      ]
    },
    {
      "cell_type": "code",
      "source": [],
      "metadata": {
        "id": "5B2Q0Jy4zMf4"
      },
      "execution_count": null,
      "outputs": []
    }
  ]
}